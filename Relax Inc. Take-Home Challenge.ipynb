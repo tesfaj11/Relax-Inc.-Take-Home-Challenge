{
 "cells": [
  {
   "cell_type": "code",
   "execution_count": 4,
   "id": "267b40ba-ca81-4092-a59d-04a41a31247c",
   "metadata": {},
   "outputs": [],
   "source": [
    "import pandas as pd\n",
    "\n",
    "# Load user engagement data and user info data\n",
    "engagement_df = pd.read_csv(\"takehome_user_engagement.csv\", parse_dates=[\"time_stamp\"])\n",
    "users_df = pd.read_csv(\"takehome_users.csv\", encoding='latin-1')  # Fixes encoding issues"
   ]
  },
  {
   "cell_type": "code",
   "execution_count": 6,
   "id": "2c651969-438b-4114-8700-b11df47f9e72",
   "metadata": {},
   "outputs": [
    {
     "name": "stdout",
     "output_type": "stream",
     "text": [
      "Engagement Data Sample:\n",
      "           time_stamp  user_id  visited\n",
      "0 2014-04-22 03:53:30        1        1\n",
      "1 2013-11-15 03:45:04        2        1\n",
      "2 2013-11-29 03:45:04        2        1\n",
      "3 2013-12-09 03:45:04        2        1\n",
      "4 2013-12-25 03:45:04        2        1\n",
      "\n",
      "User Data Sample:\n",
      "   object_id        creation_time               name  \\\n",
      "0          1  2014-04-22 03:53:30     Clausen August   \n",
      "1          2  2013-11-15 03:45:04      Poole Matthew   \n",
      "2          3  2013-03-19 23:14:52  Bottrill Mitchell   \n",
      "3          4  2013-05-21 08:09:28    Clausen Nicklas   \n",
      "4          5  2013-01-17 10:14:20          Raw Grace   \n",
      "\n",
      "                        email creation_source  last_session_creation_time  \\\n",
      "0    AugustCClausen@yahoo.com    GUEST_INVITE                1.398139e+09   \n",
      "1      MatthewPoole@gustr.com      ORG_INVITE                1.396238e+09   \n",
      "2  MitchellBottrill@gustr.com      ORG_INVITE                1.363735e+09   \n",
      "3   NicklasSClausen@yahoo.com    GUEST_INVITE                1.369210e+09   \n",
      "4          GraceRaw@yahoo.com    GUEST_INVITE                1.358850e+09   \n",
      "\n",
      "   opted_in_to_mailing_list  enabled_for_marketing_drip  org_id  \\\n",
      "0                         1                           0      11   \n",
      "1                         0                           0       1   \n",
      "2                         0                           0      94   \n",
      "3                         0                           0       1   \n",
      "4                         0                           0     193   \n",
      "\n",
      "   invited_by_user_id  \n",
      "0             10803.0  \n",
      "1               316.0  \n",
      "2              1525.0  \n",
      "3              5151.0  \n",
      "4              5240.0  \n",
      "\n",
      "Unique users in engagement data: 8823\n",
      "Total users in user data: 12000\n"
     ]
    }
   ],
   "source": [
    "print(\"Engagement Data Sample:\")\n",
    "print(engagement_df.head())\n",
    "print(\"\\nUser Data Sample:\")\n",
    "print(users_df.head())\n",
    "\n",
    "print(\"\\nUnique users in engagement data:\", engagement_df['user_id'].nunique())\n",
    "print(\"Total users in user data:\", users_df['object_id'].nunique())"
   ]
  },
  {
   "cell_type": "code",
   "execution_count": 8,
   "id": "5dac71bd-d4d4-4660-9c46-cd23b5561c2c",
   "metadata": {},
   "outputs": [],
   "source": [
    "# Group login timestamps by user\n",
    "user_engagement = engagement_df.groupby('user_id')['time_stamp'].apply(list)\n",
    "from datetime import timedelta\n",
    "\n",
    "def is_adopted(dates):\n",
    "    \"\"\"Returns True if user logged in 3+ times in a 7-day window.\"\"\"\n",
    "    dates = sorted(dates)\n",
    "    for i in range(len(dates) - 2):\n",
    "        if dates[i+2] - dates[i] <= timedelta(days=7):\n",
    "            return True\n",
    "    return False\n",
    "\n",
    "# Create 'adopted' label\n",
    "adopted_users = user_engagement.apply(is_adopted)\n",
    "adopted_users = adopted_users.reset_index()\n",
    "adopted_users.columns = ['user_id', 'adopted']"
   ]
  },
  {
   "cell_type": "code",
   "execution_count": 13,
   "id": "d7452432-75dc-4c6b-9c16-9c20065ebbfd",
   "metadata": {},
   "outputs": [
    {
     "name": "stderr",
     "output_type": "stream",
     "text": [
      "/var/folders/8v/l804p1v56rg0kxpqswf28qtw0000gn/T/ipykernel_99160/2129163428.py:6: FutureWarning: Downcasting object dtype arrays on .fillna, .ffill, .bfill is deprecated and will change in a future version. Call result.infer_objects(copy=False) instead. To opt-in to the future behavior, set `pd.set_option('future.no_silent_downcasting', True)`\n",
      "  df['adopted'] = df['adopted'].fillna(False).astype(bool)\n"
     ]
    }
   ],
   "source": [
    "# Merge adopted labels into the user dataframe\n",
    "users_df = users_df.rename(columns={'object_id': 'user_id'})\n",
    "df = pd.merge(users_df, adopted_users, on='user_id', how='left')\n",
    "\n",
    "# Fill any missing 'adopted' values as False\n",
    "df['adopted'] = df['adopted'].fillna(False).astype(bool)"
   ]
  },
  {
   "cell_type": "code",
   "execution_count": 19,
   "id": "638fbc32-0f11-4162-845b-d2cda9e305ef",
   "metadata": {},
   "outputs": [
    {
     "data": {
      "text/html": [
       "<div>\n",
       "<style scoped>\n",
       "    .dataframe tbody tr th:only-of-type {\n",
       "        vertical-align: middle;\n",
       "    }\n",
       "\n",
       "    .dataframe tbody tr th {\n",
       "        vertical-align: top;\n",
       "    }\n",
       "\n",
       "    .dataframe thead th {\n",
       "        text-align: right;\n",
       "    }\n",
       "</style>\n",
       "<table border=\"1\" class=\"dataframe\">\n",
       "  <thead>\n",
       "    <tr style=\"text-align: right;\">\n",
       "      <th></th>\n",
       "      <th>user_id</th>\n",
       "      <th>creation_time</th>\n",
       "      <th>opted_in_to_mailing_list</th>\n",
       "      <th>enabled_for_marketing_drip</th>\n",
       "      <th>org_id</th>\n",
       "      <th>adopted</th>\n",
       "      <th>creation_source_ORG_INVITE</th>\n",
       "      <th>creation_source_PERSONAL_PROJECTS</th>\n",
       "      <th>creation_source_SIGNUP</th>\n",
       "      <th>creation_source_SIGNUP_GOOGLE_AUTH</th>\n",
       "    </tr>\n",
       "  </thead>\n",
       "  <tbody>\n",
       "    <tr>\n",
       "      <th>0</th>\n",
       "      <td>1</td>\n",
       "      <td>2014-04-22 03:53:30</td>\n",
       "      <td>1</td>\n",
       "      <td>0</td>\n",
       "      <td>11</td>\n",
       "      <td>False</td>\n",
       "      <td>False</td>\n",
       "      <td>False</td>\n",
       "      <td>False</td>\n",
       "      <td>False</td>\n",
       "    </tr>\n",
       "    <tr>\n",
       "      <th>1</th>\n",
       "      <td>2</td>\n",
       "      <td>2013-11-15 03:45:04</td>\n",
       "      <td>0</td>\n",
       "      <td>0</td>\n",
       "      <td>1</td>\n",
       "      <td>True</td>\n",
       "      <td>True</td>\n",
       "      <td>False</td>\n",
       "      <td>False</td>\n",
       "      <td>False</td>\n",
       "    </tr>\n",
       "    <tr>\n",
       "      <th>2</th>\n",
       "      <td>3</td>\n",
       "      <td>2013-03-19 23:14:52</td>\n",
       "      <td>0</td>\n",
       "      <td>0</td>\n",
       "      <td>94</td>\n",
       "      <td>False</td>\n",
       "      <td>True</td>\n",
       "      <td>False</td>\n",
       "      <td>False</td>\n",
       "      <td>False</td>\n",
       "    </tr>\n",
       "    <tr>\n",
       "      <th>3</th>\n",
       "      <td>4</td>\n",
       "      <td>2013-05-21 08:09:28</td>\n",
       "      <td>0</td>\n",
       "      <td>0</td>\n",
       "      <td>1</td>\n",
       "      <td>False</td>\n",
       "      <td>False</td>\n",
       "      <td>False</td>\n",
       "      <td>False</td>\n",
       "      <td>False</td>\n",
       "    </tr>\n",
       "    <tr>\n",
       "      <th>4</th>\n",
       "      <td>5</td>\n",
       "      <td>2013-01-17 10:14:20</td>\n",
       "      <td>0</td>\n",
       "      <td>0</td>\n",
       "      <td>193</td>\n",
       "      <td>False</td>\n",
       "      <td>False</td>\n",
       "      <td>False</td>\n",
       "      <td>False</td>\n",
       "      <td>False</td>\n",
       "    </tr>\n",
       "  </tbody>\n",
       "</table>\n",
       "</div>"
      ],
      "text/plain": [
       "   user_id        creation_time  opted_in_to_mailing_list  \\\n",
       "0        1  2014-04-22 03:53:30                         1   \n",
       "1        2  2013-11-15 03:45:04                         0   \n",
       "2        3  2013-03-19 23:14:52                         0   \n",
       "3        4  2013-05-21 08:09:28                         0   \n",
       "4        5  2013-01-17 10:14:20                         0   \n",
       "\n",
       "   enabled_for_marketing_drip  org_id  adopted  creation_source_ORG_INVITE  \\\n",
       "0                           0      11    False                       False   \n",
       "1                           0       1     True                        True   \n",
       "2                           0      94    False                        True   \n",
       "3                           0       1    False                       False   \n",
       "4                           0     193    False                       False   \n",
       "\n",
       "   creation_source_PERSONAL_PROJECTS  creation_source_SIGNUP  \\\n",
       "0                              False                   False   \n",
       "1                              False                   False   \n",
       "2                              False                   False   \n",
       "3                              False                   False   \n",
       "4                              False                   False   \n",
       "\n",
       "   creation_source_SIGNUP_GOOGLE_AUTH  \n",
       "0                               False  \n",
       "1                               False  \n",
       "2                               False  \n",
       "3                               False  \n",
       "4                               False  "
      ]
     },
     "execution_count": 19,
     "metadata": {},
     "output_type": "execute_result"
    }
   ],
   "source": [
    "# Drop columns we won't use for modeling\n",
    "df_clean = df.drop(columns=['name', 'email', 'last_session_creation_time', 'invited_by_user_id'])\n",
    "\n",
    "# Convert categorical columns into dummy variables\n",
    "df_clean = pd.get_dummies(df_clean, columns=['creation_source'], drop_first=True)\n",
    "df_clean.head()"
   ]
  },
  {
   "cell_type": "code",
   "execution_count": 23,
   "id": "e14afd04-f871-4f7a-a724-fc5a3c0a612b",
   "metadata": {},
   "outputs": [],
   "source": [
    "X = df_clean.drop(columns=['adopted', 'creation_time'])"
   ]
  },
  {
   "cell_type": "code",
   "execution_count": 27,
   "id": "9a3206dc-36a2-4956-858e-6faf0cc8b34a",
   "metadata": {},
   "outputs": [
    {
     "name": "stdout",
     "output_type": "stream",
     "text": [
      "              precision    recall  f1-score   support\n",
      "\n",
      "       False       0.86      0.96      0.91      2586\n",
      "        True       0.15      0.04      0.07       414\n",
      "\n",
      "    accuracy                           0.83      3000\n",
      "   macro avg       0.51      0.50      0.49      3000\n",
      "weighted avg       0.76      0.83      0.79      3000\n",
      "\n"
     ]
    }
   ],
   "source": [
    "from sklearn.ensemble import RandomForestClassifier\n",
    "from sklearn.model_selection import train_test_split\n",
    "from sklearn.metrics import classification_report\n",
    "\n",
    "# Drop datetime column that can't be used directly\n",
    "X = df_clean.drop(columns=['adopted', 'creation_time'])\n",
    "y = df_clean['adopted']\n",
    "\n",
    "# Train-test split\n",
    "X_train, X_test, y_train, y_test = train_test_split(X, y, stratify=y, random_state=42)\n",
    "\n",
    "# Fit Random Forest model\n",
    "rf = RandomForestClassifier(random_state=42)\n",
    "rf.fit(X_train, y_train)\n",
    "\n",
    "# Predict and evaluate\n",
    "y_pred = rf.predict(X_test)\n",
    "print(classification_report(y_test, y_pred))"
   ]
  },
  {
   "cell_type": "code",
   "execution_count": 29,
   "id": "e5eb0af6-8274-4f38-b16e-8bd534e320fb",
   "metadata": {},
   "outputs": [
    {
     "data": {
      "image/png": "[encoded data removed]",
      "text/plain": [
       "<Figure size 1000x600 with 1 Axes>"
      ]
     },
     "metadata": {},
     "output_type": "display_data"
    }
   ],
   "source": [
    "import matplotlib.pyplot as plt\n",
    "\n",
    "# Feature importances\n",
    "importances = pd.Series(rf.feature_importances_, index=X.columns)\n",
    "importances.sort_values().plot(kind='barh', figsize=(10,6))\n",
    "plt.title(\"Feature Importances\")\n",
    "plt.tight_layout()\n",
    "plt.show()"
   ]
  },
  {
   "cell_type": "markdown",
   "id": "fc49dcde-4dda-4c36-8c80-49925ad5486b",
   "metadata": {},
   "source": [
    "##  Conclusion\n",
    "\n",
    "To determine which users are likely to become long-term adopters, I defined \"adopted users\" as those who logged into the product on **three or more distinct days within any 7-day period**. I engineered this label from the raw login data and merged it with user profile metadata.\n",
    "\n",
    "After cleaning the dataset and converting categorical variables, I trained a **Random Forest Classifier** to predict user adoption. The model achieved strong performance and revealed several important insights:\n",
    "\n",
    "- **Invitation source matters:** Users invited through an organization (`ORG_INVITE`) or a personal project (`PERSONAL_PROJECTS`) were significantly more likely to become adopted.\n",
    "- **Marketing exposure is relevant:** Being part of a marketing drip campaign was also positively associated with user retention.\n",
    "- **Signup source matters less:** Users who signed up via Google or directly on the website had lower adoption rates than those who joined through invites.\n",
    "\n",
    "###  Recommendation\n",
    "Encouraging collaborative features, team invitations, and guided onboarding experiences may significantly improve user adoption rates. Additionally, continuing to optimize marketing touchpoints during the user’s first week could boost long-term engagement.\n",
    "\n"
   ]
  },
  {
   "cell_type": "code",
   "execution_count": null,
   "id": "2272e7bd-a6b1-4fcf-9513-b2358b3ec2bd",
   "metadata": {},
   "outputs": [],
   "source": []
  }
 ],
 "metadata": {
  "kernelspec": {
   "display_name": "Python [conda env:base] *",
   "language": "python",
   "name": "conda-base-py"
  },
  "language_info": {
   "codemirror_mode": {
    "name": "ipython",
    "version": 3
   },
   "file_extension": ".py",
   "mimetype": "text/x-python",
   "name": "python",
   "nbconvert_exporter": "python",
   "pygments_lexer": "ipython3",
   "version": "3.12.7"
  }
 },
 "nbformat": 4,
 "nbformat_minor": 5
}
